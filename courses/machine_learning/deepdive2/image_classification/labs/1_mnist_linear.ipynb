{
 "cells": [
  {
   "cell_type": "markdown",
   "metadata": {},
   "source": [
    "# MNIST Image Classification with TensorFlow\n",
    "\n",
    "This notebook demonstrates how to implement a simple linear image model on [MNIST](http://yann.lecun.com/exdb/mnist/) using the [tf.keras API](https://www.tensorflow.org/versions/r2.0/api_docs/python/tf/keras). It builds the foundation for this <a href=\"https://github.com/GoogleCloudPlatform/training-data-analyst/blob/master/courses/machine_learning/deepdive2/image_classification/labs/2_mnist_models.ipynb\">companion notebook</a>, which explores tackling the same problem with other types of models such as DNN and CNN.\n",
    "\n",
    "## Learning Objectives\n",
    "1. Know how to read and display image data\n",
    "2. Know how to find incorrect predictions to analyze the model\n",
    "3. Visually see how computers see images"
   ]
  },
  {
   "cell_type": "code",
   "execution_count": 1,
   "metadata": {},
   "outputs": [],
   "source": [
    "!sudo chown -R jupyter:jupyter /home/jupyter/training-data-analyst"
   ]
  },
  {
   "cell_type": "markdown",
   "metadata": {},
   "source": [
    "This notebook uses TF2.x.\n",
    "Please check your tensorflow version using the cell below. If it is 2.x, navigate to **Exploring the data** section."
   ]
  },
  {
   "cell_type": "code",
   "execution_count": 2,
   "metadata": {},
   "outputs": [
    {
     "name": "stdout",
     "output_type": "stream",
     "text": [
      "2.5.0\n"
     ]
    }
   ],
   "source": [
    "import os\n",
    "import shutil\n",
    "\n",
    "import matplotlib.pyplot as plt\n",
    "import numpy as np\n",
    "import tensorflow as tf\n",
    "from tensorflow.keras import Sequential\n",
    "from tensorflow.keras.callbacks import ModelCheckpoint, TensorBoard\n",
    "from tensorflow.keras.layers import Dense, Flatten, Softmax\n",
    "\n",
    "print(tf.__version__)"
   ]
  },
  {
   "cell_type": "markdown",
   "metadata": {},
   "source": [
    "If it is not 2.x, please run the pip command below and **Restart** the kernel. Also, **run** the above command again to set all the variables."
   ]
  },
  {
   "cell_type": "code",
   "execution_count": 3,
   "metadata": {},
   "outputs": [
    {
     "name": "stdout",
     "output_type": "stream",
     "text": [
      "tensorflow==2.5.0\n"
     ]
    }
   ],
   "source": [
    "!python3 -m pip freeze | grep 'tensorflow==2\\|tensorflow-gpu==2' || \\\n",
    "    python3 -m pip install tensorflow==2"
   ]
  },
  {
   "cell_type": "markdown",
   "metadata": {},
   "source": [
    "## Exploring the data\n",
    "\n",
    "The MNIST dataset is already included in tensorflow through the keras datasets module. Let's load it and get a sense of the data."
   ]
  },
  {
   "cell_type": "code",
   "execution_count": 4,
   "metadata": {
    "collapsed": false,
    "jupyter": {
     "outputs_hidden": false
    }
   },
   "outputs": [],
   "source": [
    "mnist = tf.keras.datasets.mnist.load_data()\n",
    "(x_train, y_train), (x_test, y_test) = mnist"
   ]
  },
  {
   "cell_type": "code",
   "execution_count": 5,
   "metadata": {
    "collapsed": false,
    "jupyter": {
     "outputs_hidden": false
    }
   },
   "outputs": [
    {
     "name": "stdout",
     "output_type": "stream",
     "text": [
      "Image height x width is 28 x 28\n",
      "There are 10 classes\n"
     ]
    }
   ],
   "source": [
    "HEIGHT, WIDTH = x_train[0].shape\n",
    "NCLASSES = tf.size(tf.unique(y_train).y)\n",
    "print(\"Image height x width is\", HEIGHT, \"x\", WIDTH)\n",
    "tf.print(\"There are\", NCLASSES, \"classes\")"
   ]
  },
  {
   "cell_type": "markdown",
   "metadata": {},
   "source": [
    "Each image is 28 x 28 pixels and represents a digit from 0 to 9. These images are black and white, so each pixel is a value from 0 (white) to 255 (black). Raw numbers can be hard to interpret sometimes, so we can plot the values to see the handwritten digit as an image."
   ]
  },
  {
   "cell_type": "code",
   "execution_count": 6,
   "metadata": {
    "collapsed": false,
    "jupyter": {
     "outputs_hidden": false
    }
   },
   "outputs": [
    {
     "name": "stdout",
     "output_type": "stream",
     "text": [
      "The label for image number 12 is 9\n"
     ]
    },
    {
     "data": {
      "image/png": "[encoded data removed]",
      "text/plain": [
       "<Figure size 432x288 with 1 Axes>"
      ]
     },
     "metadata": {
      "needs_background": "light"
     },
     "output_type": "display_data"
    }
   ],
   "source": [
    "IMGNO = 12\n",
    "# Uncomment to see raw numerical values.\n",
    "# print(x_test[IMGNO])\n",
    "plt.imshow(x_test[IMGNO].reshape(HEIGHT, WIDTH));\n",
    "print(\"The label for image number\", IMGNO, \"is\", y_test[IMGNO])"
   ]
  },
  {
   "cell_type": "markdown",
   "metadata": {},
   "source": [
    "## Define the model\n",
    "Let's start with a very simple linear classifier. This was the first method to be tried on MNIST in 1998, and scored an 88% accuracy. Quite ground breaking at the time!"
   ]
  },
  {
   "cell_type": "markdown",
   "metadata": {},
   "source": [
    "We can build our linear classifier using the [tf.keras API](https://www.tensorflow.org/versions/r2.0/api_docs/python/tf/keras), so we don't have to define or initialize our weights and biases. This happens automatically for us in the background. We can also add a softmax layer to transform the logits into probabilities. Finally, we can compile the model using categorical cross entropy in order to strongly penalize high probability predictions that were incorrect.\n",
    "\n",
    "When building more complex models such as DNNs and CNNs our code will be more readable by using the [tf.keras API](https://www.tensorflow.org/versions/r2.0/api_docs/python/tf/keras). Let's get one working so we can test it and use it as a benchmark."
   ]
  },
  {
   "cell_type": "code",
   "execution_count": 7,
   "metadata": {},
   "outputs": [],
   "source": [
    "def linear_model():\n",
    "    # TODO: Build a sequential model and compile it.\n",
    "    model = Sequential([\n",
    "        Flatten(),\n",
    "        Dense(NCLASSES),\n",
    "        Softmax()\n",
    "    ])\n",
    "\n",
    "    model.compile(optimizer='adam',\n",
    "                  loss='categorical_crossentropy',\n",
    "                  metrics=['accuracy'])\n",
    "    return model"
   ]
  },
  {
   "cell_type": "markdown",
   "metadata": {},
   "source": [
    "## Write Input Functions\n",
    "\n",
    "As usual, we need to specify input functions for training and evaluating. We'll scale each pixel value so it's a decimal value between 0 and 1 as a way of normalizing the data.\n",
    "\n",
    "**TODO 1**: Define the scale function below and build the dataset"
   ]
  },
  {
   "cell_type": "code",
   "execution_count": 8,
   "metadata": {
    "collapsed": false,
    "jupyter": {
     "outputs_hidden": false
    }
   },
   "outputs": [],
   "source": [
    "BUFFER_SIZE = 5000\n",
    "BATCH_SIZE = 100\n",
    "\n",
    "\n",
    "def scale(image, label):\n",
    "    image = tf.cast(image, tf.float32)\n",
    "    image /= 255\n",
    "    return image, label\n",
    "\n",
    "\n",
    "def load_dataset(training=True):\n",
    "    \"\"\"Loads MNIST dataset into a tf.data.Dataset\"\"\"\n",
    "    (x_train, y_train), (x_test, y_test) = mnist\n",
    "    x = x_train if training else x_test\n",
    "    y = y_train if training else y_test\n",
    "    # TODO: a) one-hot encode labels, apply `scale` function, and create dataset.\n",
    "    y = tf.keras.utils.to_categorical(y, NCLASSES)\n",
    "    dataset = tf.data.Dataset.from_tensor_slices((x, y))\n",
    "    dataset = dataset.map(scale).batch(BATCH_SIZE)\n",
    "    # One-hot encode the classes\n",
    "    if training:\n",
    "         dataset = dataset.shuffle(BUFFER_SIZE).repeat()\n",
    "    return dataset"
   ]
  },
  {
   "cell_type": "code",
   "execution_count": 9,
   "metadata": {},
   "outputs": [
    {
     "name": "stdout",
     "output_type": "stream",
     "text": [
      "Test for training passed!\n",
      "Test for eval passed!\n"
     ]
    }
   ],
   "source": [
    "def create_shape_test(training):\n",
    "    dataset = load_dataset(training=training)\n",
    "    data_iter = dataset.__iter__()\n",
    "    (images, labels) = data_iter.get_next()\n",
    "    expected_image_shape = (BATCH_SIZE, HEIGHT, WIDTH)\n",
    "    expected_label_ndim = 2\n",
    "    assert(images.shape == expected_image_shape)\n",
    "    assert(labels.numpy().ndim == expected_label_ndim)\n",
    "    test_name = 'training' if training else 'eval'\n",
    "    print(\"Test for\", test_name, \"passed!\")\n",
    "\n",
    "\n",
    "create_shape_test(True)\n",
    "create_shape_test(False)"
   ]
  },
  {
   "cell_type": "markdown",
   "metadata": {},
   "source": [
    "Time to train the model! The original MNIST linear classifier had an error rate of 12%. Let's use that to sanity check that our model is learning."
   ]
  },
  {
   "cell_type": "code",
   "execution_count": 10,
   "metadata": {},
   "outputs": [
    {
     "name": "stdout",
     "output_type": "stream",
     "text": [
      "Epoch 1/50\n",
      "100/100 - 4s - loss: 1.3546 - accuracy: 0.6482 - val_loss: 0.8102 - val_accuracy: 0.8271\n",
      "\n",
      "Epoch 00001: saving model to mnist_linear/\n",
      "Epoch 2/50\n",
      "100/100 - 0s - loss: 0.6914 - accuracy: 0.8390 - val_loss: 0.5664 - val_accuracy: 0.8690\n",
      "\n",
      "Epoch 00002: saving model to mnist_linear/\n",
      "Epoch 3/50\n",
      "100/100 - 0s - loss: 0.5495 - accuracy: 0.8661 - val_loss: 0.4765 - val_accuracy: 0.8852\n",
      "\n",
      "Epoch 00003: saving model to mnist_linear/\n",
      "Epoch 4/50\n",
      "100/100 - 0s - loss: 0.4681 - accuracy: 0.8795 - val_loss: 0.4247 - val_accuracy: 0.8917\n",
      "\n",
      "Epoch 00004: saving model to mnist_linear/\n",
      "Epoch 5/50\n",
      "100/100 - 0s - loss: 0.4267 - accuracy: 0.8873 - val_loss: 0.3941 - val_accuracy: 0.8988\n",
      "\n",
      "Epoch 00005: saving model to mnist_linear/\n",
      "Epoch 6/50\n",
      "100/100 - 0s - loss: 0.3944 - accuracy: 0.8940 - val_loss: 0.3707 - val_accuracy: 0.9036\n",
      "\n",
      "Epoch 00006: saving model to mnist_linear/\n",
      "Epoch 7/50\n",
      "100/100 - 0s - loss: 0.3797 - accuracy: 0.8970 - val_loss: 0.3546 - val_accuracy: 0.9072\n",
      "\n",
      "Epoch 00007: saving model to mnist_linear/\n",
      "Epoch 8/50\n",
      "100/100 - 0s - loss: 0.3724 - accuracy: 0.9004 - val_loss: 0.3438 - val_accuracy: 0.9088\n",
      "\n",
      "Epoch 00008: saving model to mnist_linear/\n",
      "Epoch 9/50\n",
      "100/100 - 0s - loss: 0.3602 - accuracy: 0.9014 - val_loss: 0.3345 - val_accuracy: 0.9099\n",
      "\n",
      "Epoch 00009: saving model to mnist_linear/\n",
      "Epoch 10/50\n",
      "100/100 - 0s - loss: 0.3285 - accuracy: 0.9090 - val_loss: 0.3260 - val_accuracy: 0.9108\n",
      "\n",
      "Epoch 00010: saving model to mnist_linear/\n",
      "Epoch 11/50\n",
      "100/100 - 0s - loss: 0.3443 - accuracy: 0.9074 - val_loss: 0.3187 - val_accuracy: 0.9120\n",
      "\n",
      "Epoch 00011: saving model to mnist_linear/\n",
      "Epoch 12/50\n",
      "100/100 - 0s - loss: 0.3332 - accuracy: 0.9078 - val_loss: 0.3121 - val_accuracy: 0.9141\n",
      "\n",
      "Epoch 00012: saving model to mnist_linear/\n",
      "Epoch 13/50\n",
      "100/100 - 0s - loss: 0.3105 - accuracy: 0.9138 - val_loss: 0.3093 - val_accuracy: 0.9145\n",
      "\n",
      "Epoch 00013: saving model to mnist_linear/\n",
      "Epoch 14/50\n",
      "100/100 - 0s - loss: 0.3285 - accuracy: 0.9071 - val_loss: 0.3039 - val_accuracy: 0.9150\n",
      "\n",
      "Epoch 00014: saving model to mnist_linear/\n",
      "Epoch 15/50\n",
      "100/100 - 0s - loss: 0.3131 - accuracy: 0.9156 - val_loss: 0.3036 - val_accuracy: 0.9168\n",
      "\n",
      "Epoch 00015: saving model to mnist_linear/\n",
      "Epoch 16/50\n",
      "100/100 - 0s - loss: 0.3184 - accuracy: 0.9119 - val_loss: 0.2969 - val_accuracy: 0.9180\n",
      "\n",
      "Epoch 00016: saving model to mnist_linear/\n",
      "Epoch 17/50\n",
      "100/100 - 0s - loss: 0.3182 - accuracy: 0.9136 - val_loss: 0.2973 - val_accuracy: 0.9163\n",
      "\n",
      "Epoch 00017: saving model to mnist_linear/\n",
      "Epoch 18/50\n",
      "100/100 - 0s - loss: 0.2988 - accuracy: 0.9152 - val_loss: 0.2949 - val_accuracy: 0.9167\n",
      "\n",
      "Epoch 00018: saving model to mnist_linear/\n",
      "Epoch 19/50\n",
      "100/100 - 0s - loss: 0.2870 - accuracy: 0.9206 - val_loss: 0.2900 - val_accuracy: 0.9180\n",
      "\n",
      "Epoch 00019: saving model to mnist_linear/\n",
      "Epoch 20/50\n",
      "100/100 - 0s - loss: 0.2900 - accuracy: 0.9199 - val_loss: 0.2897 - val_accuracy: 0.9206\n",
      "\n",
      "Epoch 00020: saving model to mnist_linear/\n",
      "Epoch 21/50\n",
      "100/100 - 0s - loss: 0.2915 - accuracy: 0.9217 - val_loss: 0.2940 - val_accuracy: 0.9182\n",
      "\n",
      "Epoch 00021: saving model to mnist_linear/\n",
      "Epoch 22/50\n",
      "100/100 - 0s - loss: 0.3057 - accuracy: 0.9137 - val_loss: 0.2877 - val_accuracy: 0.9190\n",
      "\n",
      "Epoch 00022: saving model to mnist_linear/\n",
      "Epoch 23/50\n",
      "100/100 - 0s - loss: 0.2911 - accuracy: 0.9191 - val_loss: 0.2839 - val_accuracy: 0.9202\n",
      "\n",
      "Epoch 00023: saving model to mnist_linear/\n",
      "Epoch 24/50\n",
      "100/100 - 0s - loss: 0.3111 - accuracy: 0.9098 - val_loss: 0.2807 - val_accuracy: 0.9223\n",
      "\n",
      "Epoch 00024: saving model to mnist_linear/\n",
      "Epoch 25/50\n",
      "100/100 - 0s - loss: 0.2878 - accuracy: 0.9210 - val_loss: 0.2829 - val_accuracy: 0.9204\n",
      "\n",
      "Epoch 00025: saving model to mnist_linear/\n",
      "Epoch 26/50\n",
      "100/100 - 0s - loss: 0.2896 - accuracy: 0.9222 - val_loss: 0.2795 - val_accuracy: 0.9226\n",
      "\n",
      "Epoch 00026: saving model to mnist_linear/\n",
      "Epoch 27/50\n",
      "100/100 - 0s - loss: 0.2910 - accuracy: 0.9187 - val_loss: 0.2838 - val_accuracy: 0.9204\n",
      "\n",
      "Epoch 00027: saving model to mnist_linear/\n",
      "Epoch 28/50\n",
      "100/100 - 0s - loss: 0.2696 - accuracy: 0.9250 - val_loss: 0.2799 - val_accuracy: 0.9223\n",
      "\n",
      "Epoch 00028: saving model to mnist_linear/\n",
      "Epoch 29/50\n",
      "100/100 - 0s - loss: 0.2982 - accuracy: 0.9147 - val_loss: 0.2780 - val_accuracy: 0.9211\n",
      "\n",
      "Epoch 00029: saving model to mnist_linear/\n",
      "Epoch 30/50\n",
      "100/100 - 0s - loss: 0.2744 - accuracy: 0.9216 - val_loss: 0.2780 - val_accuracy: 0.9224\n",
      "\n",
      "Epoch 00030: saving model to mnist_linear/\n",
      "Epoch 31/50\n",
      "100/100 - 0s - loss: 0.2868 - accuracy: 0.9209 - val_loss: 0.2754 - val_accuracy: 0.9220\n",
      "\n",
      "Epoch 00031: saving model to mnist_linear/\n",
      "Epoch 32/50\n",
      "100/100 - 0s - loss: 0.2897 - accuracy: 0.9172 - val_loss: 0.2738 - val_accuracy: 0.9237\n",
      "\n",
      "Epoch 00032: saving model to mnist_linear/\n",
      "Epoch 33/50\n",
      "100/100 - 0s - loss: 0.2703 - accuracy: 0.9268 - val_loss: 0.2736 - val_accuracy: 0.9243\n",
      "\n",
      "Epoch 00033: saving model to mnist_linear/\n",
      "Epoch 34/50\n",
      "100/100 - 0s - loss: 0.2791 - accuracy: 0.9243 - val_loss: 0.2755 - val_accuracy: 0.9228\n",
      "\n",
      "Epoch 00034: saving model to mnist_linear/\n",
      "Epoch 35/50\n",
      "100/100 - 0s - loss: 0.2802 - accuracy: 0.9204 - val_loss: 0.2727 - val_accuracy: 0.9238\n",
      "\n",
      "Epoch 00035: saving model to mnist_linear/\n",
      "Epoch 36/50\n",
      "100/100 - 0s - loss: 0.2618 - accuracy: 0.9267 - val_loss: 0.2744 - val_accuracy: 0.9238\n",
      "\n",
      "Epoch 00036: saving model to mnist_linear/\n",
      "Epoch 37/50\n",
      "100/100 - 0s - loss: 0.2711 - accuracy: 0.9257 - val_loss: 0.2716 - val_accuracy: 0.9246\n",
      "\n",
      "Epoch 00037: saving model to mnist_linear/\n",
      "Epoch 38/50\n",
      "100/100 - 0s - loss: 0.2723 - accuracy: 0.9245 - val_loss: 0.2716 - val_accuracy: 0.9234\n",
      "\n",
      "Epoch 00038: saving model to mnist_linear/\n",
      "Epoch 39/50\n",
      "100/100 - 0s - loss: 0.2724 - accuracy: 0.9229 - val_loss: 0.2705 - val_accuracy: 0.9235\n",
      "\n",
      "Epoch 00039: saving model to mnist_linear/\n",
      "Epoch 40/50\n",
      "100/100 - 0s - loss: 0.2655 - accuracy: 0.9251 - val_loss: 0.2729 - val_accuracy: 0.9232\n",
      "\n",
      "Epoch 00040: saving model to mnist_linear/\n",
      "Epoch 41/50\n",
      "100/100 - 0s - loss: 0.2826 - accuracy: 0.9212 - val_loss: 0.2724 - val_accuracy: 0.9227\n",
      "\n",
      "Epoch 00041: saving model to mnist_linear/\n",
      "Epoch 42/50\n",
      "100/100 - 0s - loss: 0.2676 - accuracy: 0.9233 - val_loss: 0.2715 - val_accuracy: 0.9253\n",
      "\n",
      "Epoch 00042: saving model to mnist_linear/\n",
      "Epoch 43/50\n",
      "100/100 - 0s - loss: 0.2637 - accuracy: 0.9290 - val_loss: 0.2692 - val_accuracy: 0.9254\n",
      "\n",
      "Epoch 00043: saving model to mnist_linear/\n",
      "Epoch 44/50\n",
      "100/100 - 0s - loss: 0.2626 - accuracy: 0.9261 - val_loss: 0.2681 - val_accuracy: 0.9258\n",
      "\n",
      "Epoch 00044: saving model to mnist_linear/\n",
      "Epoch 45/50\n",
      "100/100 - 0s - loss: 0.2864 - accuracy: 0.9217 - val_loss: 0.2726 - val_accuracy: 0.9246\n",
      "\n",
      "Epoch 00045: saving model to mnist_linear/\n",
      "Epoch 46/50\n",
      "100/100 - 0s - loss: 0.2684 - accuracy: 0.9261 - val_loss: 0.2702 - val_accuracy: 0.9257\n",
      "\n",
      "Epoch 00046: saving model to mnist_linear/\n",
      "Epoch 47/50\n",
      "100/100 - 0s - loss: 0.2633 - accuracy: 0.9239 - val_loss: 0.2680 - val_accuracy: 0.9248\n",
      "\n",
      "Epoch 00047: saving model to mnist_linear/\n",
      "Epoch 48/50\n",
      "100/100 - 0s - loss: 0.2641 - accuracy: 0.9261 - val_loss: 0.2692 - val_accuracy: 0.9244\n",
      "\n",
      "Epoch 00048: saving model to mnist_linear/\n",
      "Epoch 49/50\n",
      "100/100 - 0s - loss: 0.2836 - accuracy: 0.9254 - val_loss: 0.2681 - val_accuracy: 0.9273\n",
      "\n",
      "Epoch 00049: saving model to mnist_linear/\n",
      "Epoch 50/50\n",
      "100/100 - 0s - loss: 0.2614 - accuracy: 0.9255 - val_loss: 0.2675 - val_accuracy: 0.9257\n",
      "\n",
      "Epoch 00050: saving model to mnist_linear/\n"
     ]
    }
   ],
   "source": [
    "NUM_EPOCHS = 50\n",
    "STEPS_PER_EPOCH = 100\n",
    "\n",
    "model = linear_model()\n",
    "train_data = load_dataset()\n",
    "validation_data = load_dataset(training=False)\n",
    "\n",
    "OUTDIR = \"mnist_linear/\"\n",
    "checkpoint_callback = ModelCheckpoint(\n",
    "    OUTDIR, save_weights_only=True, verbose=1)\n",
    "tensorboard_callback = TensorBoard(log_dir=OUTDIR)\n",
    "\n",
    "history = model.fit(\n",
    "    # TODO: specify training/eval data, # epochs, steps per epoch.\n",
    "    train_data, \n",
    "    validation_data=validation_data,\n",
    "    epochs=NUM_EPOCHS, \n",
    "    steps_per_epoch=STEPS_PER_EPOCH,\n",
    "    verbose=2,\n",
    "    callbacks=[checkpoint_callback, tensorboard_callback]\n",
    ")"
   ]
  },
  {
   "cell_type": "code",
   "execution_count": 11,
   "metadata": {},
   "outputs": [
    {
     "name": "stdout",
     "output_type": "stream",
     "text": [
      "Test to beat benchmark accuracy passed!\n",
      "Test model accuracy is improving passed!\n",
      "Test loss is decreasing passed!\n"
     ]
    }
   ],
   "source": [
    "BENCHMARK_ERROR = .12\n",
    "BENCHMARK_ACCURACY = 1 - BENCHMARK_ERROR\n",
    "\n",
    "accuracy = history.history['accuracy']\n",
    "val_accuracy = history.history['val_accuracy']\n",
    "loss = history.history['loss']\n",
    "val_loss = history.history['val_loss']\n",
    "    \n",
    "assert(accuracy[-1] > BENCHMARK_ACCURACY)\n",
    "assert(val_accuracy[-1] > BENCHMARK_ACCURACY)\n",
    "print(\"Test to beat benchmark accuracy passed!\")\n",
    "        \n",
    "assert(accuracy[0] < accuracy[1])\n",
    "assert(accuracy[1] < accuracy[-1])\n",
    "assert(val_accuracy[0] < val_accuracy[1])\n",
    "assert(val_accuracy[1] < val_accuracy[-1])\n",
    "print(\"Test model accuracy is improving passed!\")\n",
    "    \n",
    "assert(loss[0] > loss[1])\n",
    "assert(loss[1] > loss[-1])\n",
    "assert(val_loss[0] > val_loss[1])\n",
    "assert(val_loss[1] > val_loss[-1])\n",
    "print(\"Test loss is decreasing passed!\")"
   ]
  },
  {
   "cell_type": "markdown",
   "metadata": {},
   "source": [
    "## Evaluating Predictions"
   ]
  },
  {
   "cell_type": "markdown",
   "metadata": {},
   "source": [
    "Were you able to get an accuracy of over 90%? Not bad for a linear estimator! Let's make some predictions and see if we can find where the model has trouble. Change the range of values below to find incorrect predictions, and plot the corresponding images. What would you have guessed for these images?\n",
    "\n",
    "**TODO 2**: Change the range below to find an incorrect prediction"
   ]
  },
  {
   "cell_type": "code",
   "execution_count": 12,
   "metadata": {},
   "outputs": [
    {
     "name": "stdout",
     "output_type": "stream",
     "text": [
      "image number: 8\n",
      "the prediction was 6\n",
      "the actual label is 5\n",
      "\n"
     ]
    }
   ],
   "source": [
    "image_numbers = range(0, 10, 1)  # Change me, please.\n",
    "\n",
    "def load_prediction_dataset():\n",
    "    dataset = (x_test[image_numbers], y_test[image_numbers])\n",
    "    dataset = tf.data.Dataset.from_tensor_slices(dataset)\n",
    "    dataset = dataset.map(scale).batch(len(image_numbers))\n",
    "    return dataset\n",
    "\n",
    "predicted_results = model.predict(load_prediction_dataset())\n",
    "for index, prediction in enumerate(predicted_results):\n",
    "    predicted_value = np.argmax(prediction)\n",
    "    actual_value = y_test[image_numbers[index]]\n",
    "    if actual_value != predicted_value:\n",
    "        print(\"image number: \" + str(image_numbers[index]))\n",
    "        print(\"the prediction was \" + str(predicted_value))\n",
    "        print(\"the actual label is \" + str(actual_value))\n",
    "        print(\"\")"
   ]
  },
  {
   "cell_type": "code",
   "execution_count": 13,
   "metadata": {},
   "outputs": [
    {
     "data": {
      "image/png": "[encoded data removed]",
      "text/plain": [
       "<Figure size 432x288 with 1 Axes>"
      ]
     },
     "metadata": {
      "needs_background": "light"
     },
     "output_type": "display_data"
    }
   ],
   "source": [
    "bad_image_number = 8\n",
    "plt.imshow(x_test[bad_image_number].reshape(HEIGHT, WIDTH));"
   ]
  },
  {
   "cell_type": "markdown",
   "metadata": {},
   "source": [
    "It's understandable why the poor computer would have some trouble. Some of these images are difficult for even humans to read. In fact, we can see what the computer thinks each digit looks like.\n",
    "\n",
    "Each of the 10 neurons in the dense layer of our model has 785 weights feeding into it. That's 1 weight for every pixel in the image + 1 for a bias term. These weights are flattened feeding into the model, but we can reshape them back into the original image dimensions to see what the computer sees.\n",
    "\n",
    "**TODO 3**: Reshape the layer weights to be the shape of an input image and plot."
   ]
  },
  {
   "cell_type": "code",
   "execution_count": 16,
   "metadata": {},
   "outputs": [
    {
     "data": {
      "text/plain": [
       "<matplotlib.image.AxesImage at 0x7f0f00673ed0>"
      ]
     },
     "execution_count": 16,
     "metadata": {},
     "output_type": "execute_result"
    },
    {
     "data": {
      "image/png": "[encoded data removed]",
      "text/plain": [
       "<Figure size 432x288 with 1 Axes>"
      ]
     },
     "metadata": {
      "needs_background": "light"
     },
     "output_type": "display_data"
    }
   ],
   "source": [
    "DIGIT = 4  # Change me to be an integer from 0 to 9.\n",
    "LAYER = 1  # Layer 0 flattens image, so no weights\n",
    "WEIGHT_TYPE = 0  # 0 for variable weights, 1 for biases\n",
    "\n",
    "dense_layer_weights = model.layers[LAYER].get_weights()\n",
    "digit_weights = dense_layer_weights[WEIGHT_TYPE][:, DIGIT]\n",
    "plt.imshow(digit_weights.reshape((HEIGHT, WIDTH)))"
   ]
  },
  {
   "cell_type": "markdown",
   "metadata": {},
   "source": [
    "Did you recognize the digit the computer was trying to learn? Pretty trippy, isn't it! Even with a simple \"brain\", the computer can form an idea of what a digit should be. The human brain, however, uses [layers and layers of calculations for image recognition](https://www.salk.edu/news-release/brain-recognizes-eye-sees/). Ready for the next challenge? <a href=\"https://github.com/GoogleCloudPlatform/training-data-analyst/blob/master/courses/machine_learning/images/mnist_linear.ipynb\">Click here</a> to super charge our models with human-like vision."
   ]
  },
  {
   "cell_type": "markdown",
   "metadata": {},
   "source": [
    "## Bonus Exercise\n",
    "\n",
    "Want to push your understanding further? Instead of using Keras' built in layers, try repeating the above exercise with your own [custom layers](https://www.tensorflow.org/tutorials/eager/custom_layers)."
   ]
  },
  {
   "cell_type": "markdown",
   "metadata": {},
   "source": [
    "Copyright 2020 Google Inc.\n",
    "Licensed under the Apache License, Version 2.0 (the \"License\"); you may not use this file except in compliance with the License. You may obtain a copy of the License at\n",
    "http://www.apache.org/licenses/LICENSE-2.0\n",
    "Unless required by applicable law or agreed to in writing, software distributed under the License is distributed on an \"AS IS\" BASIS, WITHOUT WARRANTIES OR CONDITIONS OF ANY KIND, either express or implied. See the License for the specific language governing permissions and limitations under the License."
   ]
  }
 ],
 "metadata": {
  "environment": {
   "name": "common-cu110.m71",
   "type": "gcloud",
   "uri": "gcr.io/deeplearning-platform-release/base-cu110:m71"
  },
  "kernelspec": {
   "display_name": "Python 3",
   "language": "python",
   "name": "python3"
  },
  "language_info": {
   "codemirror_mode": {
    "name": "ipython",
    "version": 3
   },
   "file_extension": ".py",
   "mimetype": "text/x-python",
   "name": "python",
   "nbconvert_exporter": "python",
   "pygments_lexer": "ipython3",
   "version": "3.7.10"
  }
 },
 "nbformat": 4,
 "nbformat_minor": 4
}
